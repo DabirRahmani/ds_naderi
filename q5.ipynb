{
 "cells": [
  {
   "cell_type": "code",
   "execution_count": 81,
   "metadata": {},
   "outputs": [
    {
     "name": "stdout",
     "output_type": "stream",
     "text": [
      "[(22087, 0.8660254037844387)]\n",
      "[(22089, 0.9999999999999998)]\n",
      "[(22087, 0.9999999999999998)]\n"
     ]
    }
   ],
   "source": [
    "import pandas as pd\n",
    "import numpy as np\n",
    "\n",
    "the_user = 362\n",
    "# sim = simfunc.cosine_sim(19631, 19621)\n",
    "\n",
    "user_item = pd.read_csv(\"user-item.csv\", header=None)\n",
    "item_data = pd.read_csv(\"item-data.csv\", header=None)\n",
    "\n",
    "\n",
    "def cosine_sim(first_users, b, second_users):\n",
    "\n",
    "    all_users_of_first_and_second_list = list(set(first_users + second_users))\n",
    "\n",
    "    df = pd.DataFrame(columns=all_users_of_first_and_second_list)\n",
    "\n",
    "    df.loc[0] = np.zeros(len(all_users_of_first_and_second_list))\n",
    "\n",
    "    df = pd.DataFrame(columns=all_users_of_first_and_second_list)\n",
    "    df.loc[0] = np.zeros(len(all_users_of_first_and_second_list))\n",
    "    for item in first_users:\n",
    "        df.at[0, item] = 1\n",
    "    df.loc[1] = np.zeros(len(all_users_of_first_and_second_list))\n",
    "    for item in second_users:\n",
    "        df.at[1, item] = 1\n",
    "\n",
    "    return np.dot(df.loc[0].values, df.loc[1].values) / (np.linalg.norm(df.loc[0].values) * np.linalg.norm(df.loc[1].values))\n"
   ]
  },
  {
   "attachments": {},
   "cell_type": "markdown",
   "metadata": {},
   "source": [
    "این کد همون تابع سوال 4 هست فقط یه سری چیز ها داخل اون تابع بود که برای این که تکرار نشه و زمان بیاد پایینتر اوردم بیرون تابع"
   ]
  },
  {
   "cell_type": "code",
   "execution_count": null,
   "metadata": {},
   "outputs": [],
   "source": [
    "filtered_for_user = user_item.loc[user_item[0] == the_user]\n",
    "\n",
    "items_bought_by_which_users = user_item.groupby(\n",
    "    1)[0].apply(list).reset_index()\n",
    "\n",
    "bought_items_set = set()\n",
    "for row in items_bought_by_which_users.itertuples():\n",
    "    bought_items_set.add(row[1])\n"
   ]
  },
  {
   "attachments": {},
   "cell_type": "markdown",
   "metadata": {},
   "source": [
    "اول ایتم هایی که یوزر خریداره کرده رو فیلتر میکنیم"
   ]
  },
  {
   "attachments": {},
   "cell_type": "markdown",
   "metadata": {},
   "source": [
    "خط دوم از تابع سوال 4 کپی شده. گروه بندی میکنه بر اساس کالا"
   ]
  },
  {
   "attachments": {},
   "cell_type": "markdown",
   "metadata": {},
   "source": [
    "در نهایت یک ست میسازیم که ایتم هایی که خریداری شدن رو قرار میدیم. که یک حلقه بزنیم روی این مجموعه"
   ]
  },
  {
   "cell_type": "code",
   "execution_count": null,
   "metadata": {},
   "outputs": [],
   "source": [
    "def find_top_sims_for_an_item(item, count):\n",
    "    output_items = []\n",
    "    first_users = items_bought_by_which_users.loc[items_bought_by_which_users[1] == item][0].to_list()[\n",
    "        0]\n",
    "    for bought_item in bought_items_set:\n",
    "        # print(bought_item, item)\n",
    "        second_users = items_bought_by_which_users.loc[items_bought_by_which_users[1] == bought_item][0].to_list()[\n",
    "            0]\n",
    "        local_sim = cosine_sim(first_users, bought_item, second_users)\n",
    "        if not bought_item == item:\n",
    "            output_items.append((bought_item, local_sim))\n",
    "    output_items.sort(key=lambda x: x[1], reverse=True)\n",
    "    return output_items[:count]\n"
   ]
  },
  {
   "attachments": {},
   "cell_type": "markdown",
   "metadata": {},
   "source": [
    "این تابع به ازای هر ایتم، همه ایتم هایی که توی ست بودن رو مقایسه می‌کنه باهاش. بقیه قسمت هاش از همون سوال 4 اومده بیرون"
   ]
  },
  {
   "attachments": {},
   "cell_type": "markdown",
   "metadata": {},
   "source": [
    "خروجی ها رو توی یک تاپل میریزیم و مرتب میکنیم بر اساس شباهت. بعد به تعداد خواسته شده ازش بر میداریم و بر میگردونیم"
   ]
  },
  {
   "cell_type": "code",
   "execution_count": null,
   "metadata": {},
   "outputs": [],
   "source": [
    "for row in filtered_for_user.itertuples():\n",
    "    print(find_top_sims_for_an_item(row[2],5))"
   ]
  },
  {
   "attachments": {},
   "cell_type": "markdown",
   "metadata": {},
   "source": [
    "اینجا هم پرینت میکنه چند تا شباهت برتر بین هر ایتم رو"
   ]
  },
  {
   "attachments": {},
   "cell_type": "markdown",
   "metadata": {},
   "source": [
    "سوال 5 به صورتی که توی داک خواسته شده توی فایل پایتون هست. به جای اجرای این کد، اون کد رو اجرا کنید"
   ]
  }
 ],
 "metadata": {
  "kernelspec": {
   "display_name": "Python 3",
   "language": "python",
   "name": "python3"
  },
  "language_info": {
   "codemirror_mode": {
    "name": "ipython",
    "version": 3
   },
   "file_extension": ".py",
   "mimetype": "text/x-python",
   "name": "python",
   "nbconvert_exporter": "python",
   "pygments_lexer": "ipython3",
   "version": "3.11.0"
  },
  "orig_nbformat": 4
 },
 "nbformat": 4,
 "nbformat_minor": 2
}
