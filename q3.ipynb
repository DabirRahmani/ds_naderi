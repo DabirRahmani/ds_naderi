{
 "cells": [
  {
   "cell_type": "code",
   "execution_count": 130,
   "metadata": {},
   "outputs": [],
   "source": [
    "import pandas as pd"
   ]
  },
  {
   "cell_type": "code",
   "execution_count": 131,
   "metadata": {},
   "outputs": [],
   "source": [
    "items = pd.read_csv(\"item-data.csv\")\n",
    "user_item = pd.read_csv(\"user-item.csv\")"
   ]
  },
  {
   "cell_type": "code",
   "execution_count": 132,
   "metadata": {},
   "outputs": [],
   "source": [
    "users = {}\n",
    "for user in user_item[\"49723\"]:\n",
    "    users[user] = {}"
   ]
  },
  {
   "attachments": {},
   "cell_type": "markdown",
   "metadata": {},
   "source": [
    "یک دیکشنری از یوزر ها رو ساختیم. که قراره توی هر کدوم سبد خرید هایی که خرید کردن رو اضافه کنیم"
   ]
  },
  {
   "cell_type": "code",
   "execution_count": 133,
   "metadata": {},
   "outputs": [],
   "source": [
    "for index, bought_item in user_item.iterrows():\n",
    "    users[bought_item[0]][bought_item[3]] = set()"
   ]
  },
  {
   "attachments": {},
   "cell_type": "markdown",
   "metadata": {},
   "source": [
    "برای هر یوزر، یک دیکشنری وجود داشت.\n",
    "الان اومدیم توی دیکشنری یک ست گذاشتیم که کلید این ست همون تایم خرید هست"
   ]
  },
  {
   "cell_type": "code",
   "execution_count": 134,
   "metadata": {},
   "outputs": [],
   "source": [
    "for index, bought_item in user_item.iterrows():\n",
    "    users[bought_item[0]][bought_item[3]].add(bought_item[1])"
   ]
  },
  {
   "attachments": {},
   "cell_type": "markdown",
   "metadata": {},
   "source": [
    "حالا به ازای هر یوزر، یک سری تایم خرید داریم که توی اون تایم یک سری ایتم هایی وجود داره\n",
    "این فرض رو گرفتم که از یه ایتم چند تا نخریده. تا جایی که توی دیتاست دیدم هم این فرض درسته"
   ]
  },
  {
   "cell_type": "code",
   "execution_count": 135,
   "metadata": {},
   "outputs": [],
   "source": [
    "carts = pd.DataFrame(columns=[\"user\",\"date\",\"items\"])\n",
    "\n",
    "for user in users:\n",
    "    for date in users[user]:\n",
    "        carts.loc[len(carts)] = [user,date, list(users[user][date])]\n",
    "\n",
    "carts.to_csv(\"q3.csv\")\n"
   ]
  },
  {
   "attachments": {},
   "cell_type": "markdown",
   "metadata": {},
   "source": [
    "در نهایت با این اطلاعاتی که مرتب کردیم دونه دونه اینسرت کردیم به دیتافریم"
   ]
  }
 ],
 "metadata": {
  "kernelspec": {
   "display_name": "Python 3",
   "language": "python",
   "name": "python3"
  },
  "language_info": {
   "codemirror_mode": {
    "name": "ipython",
    "version": 3
   },
   "file_extension": ".py",
   "mimetype": "text/x-python",
   "name": "python",
   "nbconvert_exporter": "python",
   "pygments_lexer": "ipython3",
   "version": "3.11.0"
  },
  "orig_nbformat": 4
 },
 "nbformat": 4,
 "nbformat_minor": 2
}
