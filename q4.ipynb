{
 "cells": [
  {
   "attachments": {},
   "cell_type": "markdown",
   "metadata": {},
   "source": [
    "برای این سوال نیازه که اول یک جدول بسازیم از محصول ها و یک بردار که نشون میده این محصول ها توسط چه یوزر هایی خریده شدن"
   ]
  },
  {
   "cell_type": "code",
   "execution_count": 7,
   "metadata": {},
   "outputs": [],
   "source": [
    "import pandas as pd\n",
    "import numpy as np\n",
    "\n",
    "first_item = 19624\n",
    "second_item = 19621\n",
    "    \n",
    "items = pd.read_csv(\"item-data.csv\")\n",
    "user_item = pd.read_csv(\"user-item.csv\", header=None)"
   ]
  },
  {
   "cell_type": "code",
   "execution_count": 8,
   "metadata": {},
   "outputs": [],
   "source": [
    "user_bought_which_items = user_item.groupby(0)[1].apply(list).reset_index()\n",
    "items_bought_by_which_users  = user_item.groupby(1)[0].apply(list).reset_index()\n",
    "\n",
    "user_bought_which_items =pd.DataFrame(user_bought_which_items)\n",
    "items_bought_by_which_users = pd.DataFrame(items_bought_by_which_users) #its just a simple casting. i dont know ho to do it\n"
   ]
  },
  {
   "attachments": {},
   "cell_type": "markdown",
   "metadata": {},
   "source": [
    "الان یک دیتافریم داریم که یک ستونش کالاها هستن و ستون دیگه مشتری هایی هستن که این کالاها رو خریداری کردن"
   ]
  },
  {
   "attachments": {},
   "cell_type": "markdown",
   "metadata": {},
   "source": [
    "   حالت دیگه ای رو هم در نظر بگیریم که هر یوزر چه کالاهایی رو خریده و از شباهت بین یوزرها به جواب برسیم"
   ]
  },
  {
   "attachments": {},
   "cell_type": "markdown",
   "metadata": {},
   "source": [
    "نیاز داریم که توی این دو تا دیتا فریم، این ستون دوم رو به صورت یک بردار در نظر بگیریم. و بعد شباهست دو تا ستون رو بسنجیم با هم"
   ]
  },
  {
   "cell_type": "code",
   "execution_count": 9,
   "metadata": {},
   "outputs": [
    {
     "name": "stdout",
     "output_type": "stream",
     "text": [
      "   1281   43426  1476   2377   367    497    47797  45368  703  \n",
      "0    0.0    1.0    1.0    1.0    1.0    1.0    1.0    1.0    1.0\n",
      "1    1.0    0.0    1.0    1.0    1.0    1.0    0.0    1.0    1.0\n"
     ]
    },
    {
     "data": {
      "text/plain": [
       "0.8017837257372731"
      ]
     },
     "execution_count": 9,
     "metadata": {},
     "output_type": "execute_result"
    }
   ],
   "source": [
    "first_users = items_bought_by_which_users.loc[items_bought_by_which_users[1] == first_item][0].to_list()[\n",
    "    0]\n",
    "second_users = items_bought_by_which_users.loc[items_bought_by_which_users[1] == second_item][0].to_list()[\n",
    "    0]\n",
    "\n",
    "all_users_of_first_and_second_list = list(set(first_users + second_users))\n",
    "\n",
    "df = pd.DataFrame(columns=all_users_of_first_and_second_list)\n",
    "\n",
    "df.loc[0] = np.zeros(len(all_users_of_first_and_second_list))\n",
    "\n",
    "df = pd.DataFrame(columns=all_users_of_first_and_second_list)\n",
    "df.loc[0] = np.zeros(len(all_users_of_first_and_second_list))\n",
    "for item in first_users:\n",
    "    df.at[0, item] = 1\n",
    "df.loc[1] = np.zeros(len(all_users_of_first_and_second_list))\n",
    "for item in second_users:\n",
    "    df.at[1, item] = 1\n",
    "\n",
    "def cosine_sim(a, b):\n",
    "    return np.dot(a, b) / (np.linalg.norm(a) * np.linalg.norm(b))\n",
    "\n",
    "cosine_sim = cosine_sim(df.loc[0].values, df.loc[1].values)\n",
    "\n",
    "cosine_sim\n"
   ]
  },
  {
   "attachments": {},
   "cell_type": "markdown",
   "metadata": {},
   "source": [
    "همه یوزر هایی که این دو تا کالا رو خریدن رو میذاریم به عنوان ستون ها"
   ]
  },
  {
   "attachments": {},
   "cell_type": "markdown",
   "metadata": {},
   "source": [
    "دو تا از این ستون میسازیم به عنوان بردار، زیر اون یوزر هایی که کالای مورد نظر رو خریدن. یک میذاریم و بقیه ستون ها صفر"
   ]
  },
  {
   "attachments": {},
   "cell_type": "markdown",
   "metadata": {},
   "source": [
    "حالا دو تا بردار داریم و مقایسشون میکنیم"
   ]
  },
  {
   "attachments": {},
   "cell_type": "markdown",
   "metadata": {},
   "source": [
    "سوال 4 به صورتی که توی داک خواسته شده توی فایل پایتون هست."
   ]
  }
 ],
 "metadata": {
  "kernelspec": {
   "display_name": "Python 3",
   "language": "python",
   "name": "python3"
  },
  "language_info": {
   "codemirror_mode": {
    "name": "ipython",
    "version": 3
   },
   "file_extension": ".py",
   "mimetype": "text/x-python",
   "name": "python",
   "nbconvert_exporter": "python",
   "pygments_lexer": "ipython3",
   "version": "3.11.0"
  },
  "orig_nbformat": 4
 },
 "nbformat": 4,
 "nbformat_minor": 2
}
